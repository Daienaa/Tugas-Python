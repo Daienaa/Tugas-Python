{
  "nbformat": 4,
  "nbformat_minor": 0,
  "metadata": {
    "colab": {
      "name": "Untitled3.ipynb",
      "provenance": [],
      "collapsed_sections": [],
      "mount_file_id": "1iv2-wVNi6mZ_dJyKsVmplpIInIto5W17",
      "authorship_tag": "ABX9TyPedoRXf0jC3urBeJiA6yQo",
      "include_colab_link": true
    },
    "kernelspec": {
      "name": "python3",
      "display_name": "Python 3"
    }
  },
  "cells": [
    {
      "cell_type": "markdown",
      "metadata": {
        "id": "view-in-github",
        "colab_type": "text"
      },
      "source": [
        "<a href=\"https://colab.research.google.com/github/Daienaa/Tugas-Python/blob/main/Metha%20Daiena_1101194277_Tugas%2011.ipynb\" target=\"_parent\"><img src=\"https://colab.research.google.com/assets/colab-badge.svg\" alt=\"Open In Colab\"/></a>"
      ]
    },
    {
      "cell_type": "code",
      "metadata": {
        "colab": {
          "base_uri": "https://localhost:8080/"
        },
        "id": "Qj6Nd5u-_oX7",
        "outputId": "306f45b9-29c7-4a39-d5fa-d66e919ebf77"
      },
      "source": [
        "from google.colab import drive\n",
        "drive.mount('/content/drive')"
      ],
      "execution_count": 1,
      "outputs": [
        {
          "output_type": "stream",
          "text": [
            "Drive already mounted at /content/drive; to attempt to forcibly remount, call drive.mount(\"/content/drive\", force_remount=True).\n"
          ],
          "name": "stdout"
        }
      ]
    },
    {
      "cell_type": "code",
      "metadata": {
        "colab": {
          "base_uri": "https://localhost:8080/"
        },
        "id": "rdZ5-4rB_5dX",
        "outputId": "6cefa9da-26e0-4397-a710-679f8545b836"
      },
      "source": [
        "cd /content/drive/MyDrive"
      ],
      "execution_count": 2,
      "outputs": [
        {
          "output_type": "stream",
          "text": [
            "/content/drive/MyDrive\n"
          ],
          "name": "stdout"
        }
      ]
    },
    {
      "cell_type": "code",
      "metadata": {
        "colab": {
          "base_uri": "https://localhost:8080/"
        },
        "id": "C0mtuX53AIQH",
        "outputId": "7cc0a689-a4d0-46b9-c072-d2ae5fb7803d"
      },
      "source": [
        "ls"
      ],
      "execution_count": 3,
      "outputs": [
        {
          "output_type": "stream",
          "text": [
            " 03-Lecture-Perkembangan-Teknologi-Wireless-NEW.pdf\n",
            " 1574069055121.jpg\n",
            " 16061759778685325810716030265018.jpg\n",
            "'2019-06-19 10.50.00 1.jpg'\n",
            "'202004100542361000 (1).jpg'\n",
            " 202004100542361000.jpg\n",
            " 254437_ISTILAH_Revisi.pdf\n",
            "'26_METHA DAIENA LAF_JURNAL RESONANSI.pdf'\n",
            "'[2] Fungsi Vektor.gslides'\n",
            " a11.JPG\n",
            "'Bahasa Inggris.docx'\n",
            "'Bahasa Inggris.gdoc'\n",
            "'bella[1].zip'\n",
            "\u001b[0m\u001b[01;34m'b inggris'\u001b[0m/\n",
            "'BIODATA SISWA DAPODIKMEN (1).xlsx'\n",
            "'BIODATA SISWA DAPODIKMEN (1).xlsx.gsheet'\n",
            "'BIODATA SISWA DAPODIKMEN (2).xlsx.gsheet'\n",
            "'BIODATA SISWA DAPODIKMEN (3).xlsx.gsheet'\n",
            "'BIODATA SISWA DAPODIKMEN (4).xlsx.gsheet'\n",
            "'BIODATA SISWA DAPODIKMEN.xlsx'\n",
            "'BIODATA SISWA DAPODIKMEN.xlsx.gsheet'\n",
            " \u001b[01;34mBisnis\u001b[0m/\n",
            "'Black and White Minimalist Construction Resume.png'\n",
            " \u001b[01;34mClassroom\u001b[0m/\n",
            "\u001b[01;34m'Colab Notebooks'\u001b[0m/\n",
            "'Copy of BIODATA SISWA DAPODIKMEN (1).xlsx'\n",
            "'Copy of BIODATA SISWA DAPODIKMEN (1).xlsx.gsheet'\n",
            "'Copy of BIODATA SISWA DAPODIKMEN.xlsx'\n",
            "'Copy of BIODATA SISWA DAPODIKMEN.xlsx.gsheet'\n",
            "'cover buku ADSER.jpg'\n",
            " DAEEEE.gdoc\n",
            " daiena.jpg\n",
            "'Daiena ku (1).jpg'\n",
            "'Daiena ku.jpg'\n",
            " \u001b[01;34mDASKOM\u001b[0m/\n",
            "'Dokumen dari Daiena'\n",
            "'Dokumen dari Daienaaaaaa'\n",
            "'Dokumen dari Metha Daiena'\n",
            "'Dokumen dari Metha Daiena Laluna Al-F.'\n",
            "'Dokumen dari Metha Daiena Laluna Al-F. (1)'\n",
            "'Dokumen tanpa judul.gdoc'\n",
            "'Evaluasi Kursus (1).gform'\n",
            "'Evaluasi Kursus.gform'\n",
            "'FIREWALL CLIENT - 25.pdf'\n",
            "'FIREWALL SERVER-25.pdf'\n",
            "'Formulir tanpa judul (1).gform'\n",
            "'Formulir tanpa judul.gform'\n",
            "'header google form.jpg'\n",
            " \u001b[01;34mHoliyayy\u001b[0m/\n",
            "'HOST HARDENING - 25.pdf'\n",
            "'Ibnu Ali Nurhidayat (1101194140)_Progres poster  (1).jpg'\n",
            "'Ibnu Ali Nurhidayat (1101194140)_Progres poster .jpg'\n",
            " imageedit_1_5384476340.gif\n",
            " IMG_20191128_050600.jpg\n",
            " IMG_20191128_050631.jpg\n",
            " IMG_20191128_050642.jpg\n",
            " IMG_20191128_050650.jpg\n",
            " IMG_20191128_050704.jpg\n",
            " IMG_20191128_050706.jpg\n",
            " IMG_20191128_050708.jpg\n",
            " IMG_20191128_050716.jpg\n",
            " IMG_20191128_050824.jpg\n",
            " IMG_20191128_050842.jpg\n",
            " IMG_20191128_050849.jpg\n",
            " IMG_20191128_051113.jpg\n",
            " IMG_20191128_051121.jpg\n",
            " IMG_20191128_051152.jpg\n",
            " IMG_20191128_051434.jpg\n",
            " IMG_20191130_231050.jpg\n",
            " IMG_20191130_231101.jpg\n",
            " IMG_20191201_000948.jpg\n",
            " IMG_20191201_001005.jpg\n",
            " IMG_20191201_001019.jpg\n",
            " IMG_20191201_001025.jpg\n",
            " IMG_20191201_001030.jpg\n",
            " IMG_20191201_001043.jpg\n",
            " IMG_20191201_001046.jpg\n",
            " IMG_20191201_001048.jpg\n",
            " IMG_20191201_001052.jpg\n",
            " IMG_20191201_001210.jpg\n",
            " IMG_20191201_001214.jpg\n",
            " IMG_20191201_001236.jpg\n",
            " IMG_20191201_001241.jpg\n",
            " IMG_20191201_001257.jpg\n",
            " IMG_20191201_001302.jpg\n",
            " IMG_20191201_001307.jpg\n",
            " IMG_20191201_001552.jpg\n",
            " IMG_20191201_001555.jpg\n",
            " IMG_20191201_002009.jpg\n",
            " IMG_20191201_002016.jpg\n",
            " IMG_20191201_002025.jpg\n",
            " IMG_20191201_002028.jpg\n",
            " IMG_20191201_002108.jpg\n",
            " IMG_20191201_002133.jpg\n",
            " IMG_20191201_115544.jpg\n",
            " IMG_20191201_115553.jpg\n",
            " IMG_20191201_115640.jpg\n",
            " IMG_20191201_115652.jpg\n",
            " IMG_20191201_115701.jpg\n",
            " IMG_20191201_115805.jpg\n",
            " IMG_20191201_115816.jpg\n",
            " IMG_20191201_115827.jpg\n",
            " IMG_20191201_115832.jpg\n",
            " IMG_20191205_203552.jpg\n",
            " IMG_20191205_203555.jpg\n",
            " IMG_20191205_203612.jpg\n",
            " IMG_20191205_203656.jpg\n",
            " IMG_20191205_203729.jpg\n",
            " IMG_20191207_224449.jpg\n",
            " IMG_20191207_224455.jpg\n",
            " IMG_20191207_230113.jpg\n",
            " IMG_20191207_230127.jpg\n",
            " IMG_20191207_230204.jpg\n",
            " IMG_20191207_230224.jpg\n",
            " IMG_20191207_230302.jpg\n",
            " IMG_20191207_230319.jpg\n",
            " IMG_20191220_171954.jpg\n",
            " IMG_20191220_172001.jpg\n",
            " IMG_20191220_172008.jpg\n",
            " IMG_20191220_172033.jpg\n",
            " IMG_20191220_172100.jpg\n",
            " IMG_20191220_172110.jpg\n",
            " IMG_20191220_172113.jpg\n",
            " IMG_20191220_172121.jpg\n",
            " IMG_20191220_174246.jpg\n",
            " IMG_20191220_174257.jpg\n",
            " IMG_20191220_174331.jpg\n",
            " IMG_20191220_174345.jpg\n",
            " IMG_20191220_174409.jpg\n",
            " IMG_20191220_174415.jpg\n",
            " IMG_20191220_174418.jpg\n",
            " IMG_20191220_174419.jpg\n",
            " IMG_20191220_174423.jpg\n",
            " IMG_20191220_174426.jpg\n",
            " IMG_20191220_174427.jpg\n",
            " IMG_20191220_174459.jpg\n",
            " IMG_20191220_174509.jpg\n",
            " IMG_20191220_174522.jpg\n",
            " IMG_20191220_174526.jpg\n",
            " IMG_20191220_174533.jpg\n",
            " IMG_20191220_174848.jpg\n",
            " IMG_20191220_174854.jpg\n",
            " IMG_20191220_174914.jpg\n",
            " IMG_20191220_174919.jpg\n",
            " IMG_20191220_174925.jpg\n",
            " IMG_20191220_175223.jpg\n",
            " IMG_20191220_175535.jpg\n",
            " IMG_20191220_175548.jpg\n",
            " IMG_20191220_175605.jpg\n",
            " IMG_20191220_175609.jpg\n",
            " IMG_20191220_175629.jpg\n",
            " IMG_20191220_175636.jpg\n",
            " IMG_20191220_175639.jpg\n",
            " IMG_20191220_175644.jpg\n",
            " IMG_20191220_175652.jpg\n",
            " IMG_20191220_175715.jpg\n",
            " IMG_20191220_175728.jpg\n",
            " IMG_20191220_175730.jpg\n",
            " IMG_20191220_175734.jpg\n",
            " IMG_20191220_175813.jpg\n",
            " IMG_20191220_175822.jpg\n",
            " IMG_20191220_180030.jpg\n",
            " IMG_20191220_180102.jpg\n",
            " IMG_20191220_180107.jpg\n",
            " IMG_20191220_180118.jpg\n",
            " IMG_20191220_180126.jpg\n",
            " IMG_20191220_180156.jpg\n",
            " IMG_20191220_180216.jpg\n",
            " IMG_20191220_180239.jpg\n",
            " IMG_20191220_180245.jpg\n",
            " IMG_20191220_180304.jpg\n",
            " IMG_20191220_180305.jpg\n",
            " IMG_20191220_180306.jpg\n",
            " IMG_20191220_180307.jpg\n",
            " IMG_20191220_180308.jpg\n",
            " IMG_20191220_180319.jpg\n",
            " IMG_20191220_180320.jpg\n",
            " IMG_20191223_133036.jpg\n",
            " IMG_20191223_133040.jpg\n",
            " IMG_20191223_133115.jpg\n",
            " IMG_20191223_133119.jpg\n",
            " IMG_20191223_133126.jpg\n",
            " IMG_20191223_133130.jpg\n",
            " IMG_20191223_133135.jpg\n",
            " IMG_20200110_191333.jpg\n",
            " IMG_20200110_191337.jpg\n",
            " IMG_20200110_191351.jpg\n",
            " IMG_20200110_191357.jpg\n",
            " IMG_20200110_201221.jpg\n",
            " IMG_20200110_201245.jpg\n",
            " IMG_20200110_201258.jpg\n",
            " IMG_20200110_201315.jpg\n",
            " IMG_20200110_201334.jpg\n",
            " IMG_20200110_201337.jpg\n",
            " IMG_20200116_185742.jpg\n",
            " IMG_20200116_185753.jpg\n",
            " IMG_20200116_185758.jpg\n",
            " IMG_20200116_185807.jpg\n",
            " IMG_20200116_185812.jpg\n",
            " IMG_20200119_084714.jpg\n",
            " IMG_20200119_084719.jpg\n",
            " IMG_20200119_084721.jpg\n",
            " IMG_20200119_084800.jpg\n",
            " IMG_20200119_122903.jpg\n",
            " IMG_20200119_122933.jpg\n",
            " IMG_20200119_123003.jpg\n",
            " IMG_20200119_123020.jpg\n",
            " IMG_20200119_123027.jpg\n",
            " IMG_20200119_123037.jpg\n",
            " IMG_20200119_123053.jpg\n",
            " IMG_20200119_123057.jpg\n",
            " IMG_20200119_123105.jpg\n",
            " IMG_20200119_123111.jpg\n",
            " IMG_20200119_123115.jpg\n",
            " IMG_20200119_123119.jpg\n",
            " IMG_20200119_123122.jpg\n",
            " IMG_20200119_123142.jpg\n",
            " IMG_20200119_123155.jpg\n",
            " IMG_20200119_123214.jpg\n",
            " IMG_20200119_123301.jpg\n",
            " IMG_20200119_123320.jpg\n",
            " IMG_20200119_123337.jpg\n",
            " IMG_20200119_123340.jpg\n",
            " IMG_20200212_192524.jpg\n",
            " IMG_20200212_192535.jpg\n",
            " IMG_20200212_211055.jpg\n",
            " IMG_20200212_211101.jpg\n",
            " IMG_20200212_211110.jpg\n",
            " IMG_20200212_211114.jpg\n",
            " IMG_20200212_211124.jpg\n",
            " IMG_20200212_211126.jpg\n",
            " IMG_20200212_211157.jpg\n",
            " IMG_20200212_211159.jpg\n",
            " IMG_20200212_211206.jpg\n",
            " IMG_20200212_211632.jpg\n",
            " IMG_20200212_211725.jpg\n",
            " IMG_20200212_211736.jpg\n",
            " IMG_20200212_211741.jpg\n",
            " IMG_20200212_211749.jpg\n",
            " IMG_20200212_211911.jpg\n",
            " IMG_20200212_211917.jpg\n",
            " IMG_20200212_211920.jpg\n",
            " IMG_20200216_073612_182.jpg\n",
            " IMG_20200229_201427.jpg\n",
            " IMG_20200229_201436.jpg\n",
            " IMG_20200229_220653.jpg\n",
            " IMG_20200229_220702.jpg\n",
            " IMG_20200229_220706.jpg\n",
            " IMG_20200229_220708.jpg\n",
            " IMG_20200229_220719.jpg\n",
            " IMG_20200229_220724.jpg\n",
            " IMG_20200229_220746.jpg\n",
            " IMG_20200229_220753.jpg\n",
            " IMG_20200229_220813.jpg\n",
            " IMG_20200229_221152.jpg\n",
            " IMG_20200229_221157.jpg\n",
            " IMG_20200229_221200.jpg\n",
            " IMG_20200229_221207.jpg\n",
            " IMG_20200229_221215.jpg\n",
            " IMG_20200229_221233.jpg\n",
            " IMG_20200229_221243.jpg\n",
            " IMG_20200229_221248.jpg\n",
            " IMG_20200229_221250.jpg\n",
            " IMG_20200229_221302.jpg\n",
            " IMG_20200229_221309.jpg\n",
            " IMG_20200301_113331.jpg\n",
            " IMG_20200301_113335.jpg\n",
            " IMG_20200301_113353.jpg\n",
            " IMG_20200301_115633.jpg\n",
            " IMG_20200301_115639.jpg\n",
            " IMG_20200301_115646.jpg\n",
            " IMG_20200301_115653.jpg\n",
            " IMG_20200301_115658.jpg\n",
            " IMG_20200301_115703.jpg\n",
            " IMG_20200301_115708.jpg\n",
            " IMG_20200301_115716.jpg\n",
            " IMG_20200301_115722.jpg\n",
            " IMG_20200301_115728.jpg\n",
            " IMG_20200301_115730.jpg\n",
            " IMG_20200301_115750.jpg\n",
            " IMG_20200301_130048.jpg\n",
            " IMG_20200301_130051.jpg\n",
            " IMG_20200301_132806.jpg\n",
            " IMG_20200307_200555.jpg\n",
            " IMG_20200307_200602.jpg\n",
            " IMG_20200307_200610.jpg\n",
            " IMG_20200307_200744.jpg\n",
            " IMG_20200307_200749.jpg\n",
            " IMG-20200312-WA0079.jpeg\n",
            " IMG_20200316_202338.jpg\n",
            " IMG_20200316_202344.jpg\n",
            " IMG_20200316_202651.jpg\n",
            " IMG_20200316_202653.jpg\n",
            " IMG_20200316_202655.jpg\n",
            " IMG_20200316_202659.jpg\n",
            " IMG_20200316_202700.jpg\n",
            " IMG_20200316_202705.jpg\n",
            " IMG_20200316_202706.jpg\n",
            " IMG_20200316_202708.jpg\n",
            " IMG_20200316_202740.jpg\n",
            " IMG_20200316_202745.jpg\n",
            " IMG_20200316_203620.jpg\n",
            " IMG_20200316_203642.jpg\n",
            " IMG_20200316_203659.jpg\n",
            " IMG_20200316_203704.jpg\n",
            " IMG_20200316_203940.jpg\n",
            " IMG_20200316_203947_1.jpg\n",
            " IMG_20200316_204204.jpg\n",
            " IMG_20200316_204216.jpg\n",
            "'IMG_20200317_112626 (1).jpg'\n",
            " IMG_20200317_112626.jpg\n",
            "'IMG_20200317_112632 (1).jpg'\n",
            " IMG_20200317_112632.jpg\n",
            " IMG_20200317_112642.jpg\n",
            " IMG_20200317_112646.jpg\n",
            " IMG_20200317_142602.jpg\n",
            "'IMG_20200317_142605 (1).jpg'\n",
            " IMG_20200317_142605.jpg\n",
            "'IMG_20200317_142654 (1).jpg'\n",
            " IMG_20200317_142654.jpg\n",
            " IMG_20200317_142819.jpg\n",
            " IMG_20200317_184709.jpg\n",
            " IMG_20200317_184822.jpg\n",
            " IMG_20200317_184828.jpg\n",
            " IMG_20200317_184835.jpg\n",
            " IMG_20200317_194350.jpg\n",
            "'IMG_20200317_194407 (1).jpg'\n",
            " IMG_20200317_194407.jpg\n",
            " IMG_20200325_131021.jpg\n",
            " IMG_20200325_133527.jpg\n",
            " IMG_20200325_133530.jpg\n",
            " IMG_20200325_134635.jpg\n",
            " IMG_20200325_134646.jpg\n",
            " IMG_20200325_134650.jpg\n",
            " IMG_20200325_134652.jpg\n",
            "'IMG_20200325_145130 (1).jpg'\n",
            " IMG_20200325_145130.jpg\n",
            "'IMG_20200325_145136 (1).jpg'\n",
            " IMG_20200325_145136.jpg\n",
            "'IMG_20200325_145148 (1).jpg'\n",
            " IMG_20200325_145148.jpg\n",
            "'IMG_20200325_145223 (1).jpg'\n",
            " IMG_20200325_145223.jpg\n",
            "'IMG_20200325_145249 (1).jpg'\n",
            " IMG_20200325_145249.jpg\n",
            " IMG_20200325_145252.jpg\n",
            " IMG_20200325_145313.jpg\n",
            " IMG_20200325_145315.jpg\n",
            "'IMG_20200325_145318 (1).jpg'\n",
            " IMG_20200325_145318.jpg\n",
            " IMG_20200325_154619.jpg\n",
            " IMG_20200325_154622.jpg\n",
            " IMG_20200325_154625.jpg\n",
            " IMG_20200325_154627.jpg\n",
            " IMG_20200325_154633.jpg\n",
            " IMG_20200325_160028.jpg\n",
            " IMG_20200325_160045.jpg\n",
            " IMG_20200325_160731.jpg\n",
            " IMG_20200325_160734.jpg\n",
            "'IMG_20200413_101943 (1).jpg'\n",
            " IMG_20200413_101943.jpg\n",
            " IMG_2267.JPG\n",
            "'IMG_5589 (1).JPG'\n",
            " IMG_5589.JPG\n",
            "'IMG_5590 (1).JPG'\n",
            " IMG_5590.JPG\n",
            "'Informasi Kontak.gform'\n",
            "'Jurnal KPST.gdoc'\n",
            " KAMIS5_1101194277_04.rar\n",
            " \u001b[01;34mKulyah\u001b[0m/\n",
            "'Lampiran III[pakta_integritas_studi].pdf'\n",
            "'Lampiran II[pentunjuk_registrasi_onsite].pdf'\n",
            "'Lampiran IV[pernyataan].pdf'\n",
            "'LampiranVI[mandiri].pdf'\n",
            "'LampiranV[pernyataan_keuangan].pdf'\n",
            "'LAPORAN KEGIATAN SUB ORGANISASI DAN ORGANISASI_SIE 2.pdf'\n",
            " lophloph\n",
            " love2K172203.amr\n",
            " LRM_EXPORT_55940480273071_20191126_141017601.jpeg.jpg\n",
            " \u001b[01;34mMagang\u001b[0m/\n",
            "'Matching Number.pdf'\n",
            " \u001b[01;34mMavek\u001b[0m/\n",
            "'Metha Daiena Laluna Al Farisyie_1101194277(1) (1).JPG'\n",
            "'Metha Daiena Laluna Al Farisyie_1101194277(1).JPG'\n",
            "'METHA DAIENA LALUNA AL FARISYIE_1101194277 (1).pdf'\n",
            "'Metha Daiena Laluna Al Farisyie_1101194277(2) (1).JPG'\n",
            "'METHA DAIENA LALUNA AL FARISYIE_1101194277_26.pdf'\n",
            "'Metha Daiena Laluna Al Farisyie_1101194277(2).JPG'\n",
            "'METHA DAIENA LALUNA AL FARISYIE_1101194277 (2).pdf'\n",
            "'METHA DAIENA LALUNA AL FARISYIE_1101194277 (3).pdf'\n",
            "'METHA DAIENA LALUNA AL FARISYIE_1101194277 (4).pdf'\n",
            "'Metha Daiena Laluna Al Farisyie_1101194277_Alpro 17042020.pdf'\n",
            "'METHA DAIENA LALUNA AL FARISYIE_1101194277.pdf'\n",
            "'Metha Daiena Laluna Al Farisyie_1101194277.rar'\n",
            "'METHA DAIENA LALUNA AL FARISYIE_1101194277_TT-43-06.zip'\n",
            "'METHA DAIENA LALUNA AL FARISYIE_1101194277_UTSPDA.pdf'\n",
            "'METHA  DAIENA LALUNA AL FARISYIE.jpg'\n",
            "'METHA DAIENA LALUNA AL FARISYIE.jpg'\n",
            "'METHA  DAIENA LALUNA AL FARISYIE - Metha Daiena.jpg'\n",
            "'METHA DAIENA LALUNA AL FARISYIE - Metha Daiena.jpg'\n",
            "'METHA  DAIENA LALUNA AL FARISYIE - Metha Daiena.pdf'\n",
            "'METHA DAIENA LALUNA AL FARISYIE - Metha Daiena.pdf'\n",
            "'METHA  DAIENA LALUNA AL FARISYIE.pdf'\n",
            "'METHA DAIENA LALUNA AL FARISYIE.pdf'\n",
            " MiniMovie_Mixedtheme_181218.mp4\n",
            "'Modulasi Digital.gdoc'\n",
            " \u001b[01;34mMyisraa\u001b[0m/\n",
            " \u001b[01;34mnnmodel_scene\u001b[0m/\n",
            " P_20200331_191257_1_BF_p.jpg\n",
            "'Pendaftaran untuk Mendapat Kaus (1).gform'\n",
            "'Pendaftaran untuk Mendapat Kaus.gform'\n",
            " PicsArt_02-18-07.04.23.jpg\n",
            "'POSTER ACARA V6.jpg'\n",
            "'Proposal Kegiatan ASKFM-1.pdf'\n",
            "'REMIDI UKM MAT_METHA DAIENA_24_XTKJ2.docx'\n",
            " Resume.gdoc\n",
            " running.rar\n",
            " s1.png\n",
            "'Salinan Video 4.Genius Channel- Michael Faraday- The Experiment(1).mp4'\n",
            "'Screenshot (166).png'\n",
            " Screenshot_20191017-162049.jpg\n",
            " Screenshot_2019_1108_100143.jpg\n",
            "'Screenshot_2020_0401_212349 (1).jpg'\n",
            " Screenshot_2020_0401_212349.jpg\n",
            "'Screenshot_2020_0401_212419 (1).jpg'\n",
            " Screenshot_2020_0401_212419.jpg\n",
            "'Screenshot_2020_0414_162631 (1).jpg'\n",
            " Screenshot_2020_0414_162631.jpg\n",
            " Screenshot_2020-10-16-18-35-00-46_2ef548bf47261a0f379d52645eb41568.jpg\n",
            " Screenshot_2020-11-20-18-37-40-80_2ef548bf47261a0f379d52645eb41568.jpg\n",
            "'Screenshot (231).png'\n",
            "'Screenshot (244).png'\n",
            "'SELASA(3)_TT06(G)_METHA DAIENA LALUNA AL FARISYIE_1101194277_JW (1).jpg'\n",
            "'SELASA(3)_TT06(G)_METHA DAIENA LALUNA AL FARISYIE_1101194277_JW.jpg'\n",
            "'SELASA(3)_TT06(G)_METHA DAIENA LALUNA AL FARISYIE_1101194277_JW.pdf'\n",
            "'Semua hasil coba coba dae.gdoc'\n",
            "'SG SEMARAK 1.jpg'\n",
            "'SG SEMARAK 2.jpg'\n",
            " Siskom.docx\n",
            " Slide-05-PTT-Penomoran-dan-Jaringan_Telefon-REV.pdf\n",
            " Slide-12-PTT-Pengantar-Modulasi-Digital-REVISI.gdoc\n",
            " Soal-XITKJ1-25.pdf\n",
            "'STRUKTUR SUB ORGANISASI SIE 2.docx'\n",
            " Surat_Kelulusan_180918032.pdf\n",
            "'Surat Keterangan Pendapatan.pdf'\n",
            "'Survey Penggunaan Layanan Google Classroom.gform'\n",
            " \u001b[01;34mTT06\u001b[0m/\n",
            "'TT-43-06 KEAMANAN RUMAH MENGGUNAKAN  SENSOR SIDIK JARI DAN SENSOR SUHU BERBASIS MIKROKONTROLER ATMEGA8.gdoc'\n",
            "'TT-43-06_KELOMPOK 2_D-BISA.rar'\n",
            "'TT-43-06_METHA DAIENA LALUNA AL FARISYIE.pdf'\n",
            "'TT-43-06 Smart Security.gdoc'\n",
            "'tugas Dae.rar'\n",
            " tugasor.docx\n",
            " \u001b[01;34mTugassusah\u001b[0m/\n",
            "\u001b[01;34m'Ultah mak e'\u001b[0m/\n",
            " \u001b[01;34mVideo\u001b[0m/\n",
            "'WhatsApp Image 2020-09-10 at 18.44.38.jpeg'\n",
            "'WhatsApp Image 2020-09-29 at 06.48.14.jpeg'\n",
            "'WhatsApp Image 2020-10-26 at 12.16.11 PM.jpeg'\n",
            "'Workout 6 (1).jpg'\n",
            "'Workout 6 (2).jpg'\n",
            "'Workout 6.jpg'\n",
            "'Workout 7 (1).jpg'\n",
            "'Workout 7.jpg'\n",
            "'Workout 8 (1).jpg'\n",
            "'Workout 8.jpg'\n",
            "'Workout 9 (1).jpg'\n",
            "'Workout 9.jpg'\n",
            "'XITKJ1-25-Metha Daiena Laluna Al-Farisyie.ResumeEmailMarketing.docx'\n",
            " \u001b[01;34mXT2\u001b[0m/\n"
          ],
          "name": "stdout"
        }
      ]
    },
    {
      "cell_type": "code",
      "metadata": {
        "id": "UhvPWdVnAL6m"
      },
      "source": [
        "# import the necessary packages\n",
        "from keras.models import Sequential\n",
        "from keras.layers.core import Activation\n",
        "from keras.layers.core import Flatten\n",
        "from keras.layers.core import Dense\n",
        "from keras.optimizers import Adam\n",
        "from sklearn.preprocessing import LabelBinarizer\n",
        "from sklearn.model_selection import train_test_split\n",
        "from sklearn.metrics import classification_report\n",
        "from PIL import Image\n",
        "from imutils import paths\n",
        "import numpy as np\n",
        "import os"
      ],
      "execution_count": 4,
      "outputs": []
    },
    {
      "cell_type": "code",
      "metadata": {
        "colab": {
          "base_uri": "https://localhost:8080/"
        },
        "id": "_5TpZDb4AQwy",
        "outputId": "ed430e68-76d5-416a-e265-d888dbbaa652"
      },
      "source": [
        "# grab all image paths in the input dataset directory, then initialize\n",
        "# our list of images and corresponding class labels\n",
        "print(\"[INFO] loading images...\")\n",
        "imagePaths = paths.list_images(\"Tugassusah\")\n",
        "data = []\n",
        "labels = []"
      ],
      "execution_count": 5,
      "outputs": [
        {
          "output_type": "stream",
          "text": [
            "[INFO] loading images...\n"
          ],
          "name": "stdout"
        }
      ]
    },
    {
      "cell_type": "code",
      "metadata": {
        "id": "4l0FVXQBAagj"
      },
      "source": [
        "# loop over our input images\n",
        "for imagePath in imagePaths:\n",
        "\t# load the input image from disk, resize it to 64x64 pixels, scale\n",
        "\t# the pixel intensities to the range [0, 1], and then update our\n",
        "\t# images list\n",
        "\timage = Image.open(imagePath)\n",
        "  #preprocessing\n",
        "\timage = np.array(image.resize((64, 64))) / 255.0 #normalisasi\n",
        "\tdata.append(image)\n",
        "\n",
        "\t# extract the class label from the file path and update the\n",
        "\t# labels list\n",
        "\tlabel = imagePath.split(os.path.sep)[-2]\n",
        "\tlabels.append(label)"
      ],
      "execution_count": 6,
      "outputs": []
    },
    {
      "cell_type": "code",
      "metadata": {
        "colab": {
          "base_uri": "https://localhost:8080/"
        },
        "id": "LP8rKtMrAhg7",
        "outputId": "b947044a-e45c-430f-a151-625168f27b77"
      },
      "source": [
        "print(labels)"
      ],
      "execution_count": 7,
      "outputs": [
        {
          "output_type": "stream",
          "text": [
            "['GMB_02', 'GMB_02', 'GMB_02', 'GMB_02', 'GMB_02', 'GMB_02', 'GMB_02', 'GMB_02', 'GMB_02', 'GMB_02', 'GMB_02', 'GMB_02', 'GMB_02', 'GMB_02', 'GMB_02', 'GMB_02', 'GMB_02', 'GMB_02', 'GMB_02', 'GMB_02', 'GMB_02', 'GMB_02', 'GMB_02', 'GMB_02', 'GMB_02', 'GMB_02', 'GMB_02', 'GMB_02', 'GMB_02', 'GMB_02', 'GMB_02', 'GMB_02', 'GMB_02', 'GMB_02', 'GMB_02', 'GMB_02', 'GMB_02', 'GMB_02', 'GMB_02', 'GMB_02', 'GMB_02', 'GMB_02', 'GMB_02', 'GMB_02', 'GMB_02', 'GMB_02', 'GMB_02', 'GMB_02', 'GMB_02', 'GMB_02', 'GMB_02', 'GMB_02', 'GMB_02', 'GMB_02', 'GMB_02', 'GMB_02', 'GMB_02', 'GMB_02', 'GMB_02', 'GMB_02', 'GMB_02', 'GMB_02', 'GMB_02', 'GMB_02', 'GMB_02', 'GMB_02', 'GMB_02', 'GMB_02', 'GMB_02', 'GMB_02', 'GMB_02', 'GMB_02', 'GMB_02', 'GMB_02', 'GMB_02', 'GMB_02', 'GMB_02', 'GMB_02', 'GMB_02', 'GMB_02', 'GMB_02', 'GMB_02', 'GMB_02', 'GMB_02', 'GMB_02', 'GMB_02', 'GMB_02', 'GMB_02', 'GMB_02', 'GMB_02', 'GMB_02', 'GMB_02', 'GMB_02', 'GMB_02', 'GMB_02', 'GMB_02', 'GMB_02', 'GMB_02', 'GMB_02', 'GMB_02', 'GMB_02', 'GMB_02', 'GMB_02', 'GMB_02', 'GMB_02', 'GMB_02', 'GMB_02', 'GMB_02', 'GMB_02', 'GMB_02', 'GMB_02', 'GMB_02', 'GMB_02', 'GMB_05', 'GMB_05', 'GMB_05', 'GMB_05', 'GMB_05', 'GMB_05', 'GMB_05', 'GMB_05', 'GMB_05', 'GMB_05', 'GMB_05', 'GMB_05', 'GMB_05', 'GMB_05', 'GMB_05', 'GMB_05', 'GMB_05', 'GMB_05', 'GMB_05', 'GMB_05', 'GMB_05', 'GMB_05', 'GMB_05', 'GMB_05', 'GMB_05', 'GMB_05', 'GMB_05', 'GMB_05', 'GMB_05', 'GMB_05', 'GMB_05', 'GMB_05', 'GMB_05', 'GMB_05', 'GMB_05', 'GMB_05', 'GMB_05', 'GMB_05', 'GMB_05', 'GMB_05', 'GMB_05', 'GMB_05', 'GMB_05', 'GMB_05', 'GMB_05', 'GMB_05', 'GMB_05', 'GMB_05', 'GMB_05', 'GMB_05', 'GMB_05', 'GMB_05', 'GMB_05', 'GMB_05', 'GMB_05', 'GMB_05', 'GMB_05', 'GMB_05', 'GMB_05', 'GMB_05', 'GMB_05', 'GMB_05', 'GMB_05', 'GMB_05', 'GMB_05', 'GMB_05', 'GMB_05', 'GMB_05', 'GMB_05', 'GMB_05', 'GMB_05', 'GMB_05', 'GMB_05', 'GMB_05', 'GMB_05', 'GMB_05', 'GMB_05', 'GMB_05', 'GMB_05', 'GMB_05', 'GMB_05', 'GMB_05', 'GMB_05', 'GMB_05', 'GMB_05', 'GMB_05', 'GMB_05', 'GMB_05', 'GMB_05', 'GMB_05', 'GMB_05', 'GMB_05', 'GMB_05', 'GMB_05', 'GMB_05', 'GMB_05', 'GMB_05', 'GMB_05', 'GMB_05', 'GMB_05', 'GMB_05', 'GMB_05', 'GMB_05', 'GMB_05', 'GMB_05', 'GMB_05', 'GMB_05', 'GMB_05', 'GMB_05', 'GMB_05', 'GMB_05', 'GMB_05', 'GMB_05', 'GMB_05', 'GMB_05', 'GMB_05', 'GMB_05', 'GMB_05', 'GMB_05', 'GMB_05', 'GMB_05', 'GMB_01', 'GMB_01', 'GMB_01', 'GMB_01', 'GMB_01', 'GMB_01', 'GMB_01', 'GMB_01', 'GMB_01', 'GMB_01', 'GMB_01', 'GMB_01', 'GMB_01', 'GMB_01', 'GMB_01', 'GMB_01', 'GMB_01', 'GMB_01', 'GMB_01', 'GMB_01', 'GMB_01', 'GMB_01', 'GMB_01', 'GMB_01', 'GMB_01', 'GMB_01', 'GMB_01', 'GMB_01', 'GMB_01', 'GMB_01', 'GMB_01', 'GMB_01', 'GMB_01', 'GMB_01', 'GMB_01', 'GMB_01', 'GMB_01', 'GMB_01', 'GMB_01', 'GMB_01', 'GMB_01', 'GMB_01', 'GMB_01', 'GMB_01', 'GMB_01', 'GMB_01', 'GMB_01', 'GMB_01', 'GMB_01', 'GMB_01', 'GMB_01', 'GMB_01', 'GMB_01', 'GMB_01', 'GMB_01', 'GMB_01', 'GMB_01', 'GMB_01', 'GMB_01', 'GMB_01', 'GMB_01', 'GMB_01', 'GMB_01', 'GMB_01', 'GMB_01', 'GMB_01', 'GMB_01', 'GMB_01', 'GMB_01', 'GMB_01', 'GMB_01', 'GMB_01', 'GMB_01', 'GMB_01', 'GMB_01', 'GMB_01', 'GMB_01', 'GMB_01', 'GMB_01', 'GMB_01', 'GMB_01', 'GMB_01', 'GMB_01', 'GMB_01', 'GMB_01', 'GMB_01', 'GMB_01', 'GMB_01', 'GMB_01', 'GMB_01', 'GMB_01', 'GMB_01', 'GMB_01', 'GMB_01', 'GMB_01', 'GMB_01', 'GMB_01', 'GMB_01', 'GMB_01', 'GMB_01', 'GMB_01', 'GMB_01', 'GMB_01', 'GMB_01', 'GMB_01', 'GMB_01', 'GMB_01', 'GMB_01', 'GMB_01', 'GMB_01', 'GMB_01', 'GMB_01', 'GMB_01', 'GMB_01', 'GMB_01', 'GMB_01', 'GMB_03', 'GMB_03', 'GMB_03', 'GMB_03', 'GMB_03', 'GMB_03', 'GMB_03', 'GMB_03', 'GMB_03', 'GMB_03', 'GMB_03', 'GMB_03', 'GMB_03', 'GMB_03', 'GMB_03', 'GMB_03', 'GMB_03', 'GMB_03', 'GMB_03', 'GMB_03', 'GMB_03', 'GMB_03', 'GMB_03', 'GMB_03', 'GMB_03', 'GMB_03', 'GMB_03', 'GMB_03', 'GMB_03', 'GMB_03', 'GMB_03', 'GMB_03', 'GMB_03', 'GMB_03', 'GMB_03', 'GMB_03', 'GMB_03', 'GMB_03', 'GMB_03', 'GMB_03', 'GMB_03', 'GMB_03', 'GMB_03', 'GMB_03', 'GMB_03', 'GMB_03', 'GMB_03', 'GMB_03', 'GMB_03', 'GMB_03', 'GMB_03', 'GMB_03', 'GMB_03', 'GMB_03', 'GMB_03', 'GMB_03', 'GMB_03', 'GMB_03', 'GMB_03', 'GMB_03', 'GMB_03', 'GMB_03', 'GMB_03', 'GMB_03', 'GMB_03', 'GMB_03', 'GMB_03', 'GMB_03', 'GMB_03', 'GMB_03', 'GMB_03', 'GMB_03', 'GMB_03', 'GMB_03', 'GMB_03', 'GMB_03', 'GMB_03', 'GMB_03', 'GMB_03', 'GMB_03', 'GMB_03', 'GMB_03', 'GMB_03', 'GMB_03', 'GMB_03', 'GMB_03', 'GMB_03', 'GMB_03', 'GMB_03', 'GMB_03', 'GMB_03', 'GMB_03', 'GMB_03', 'GMB_03', 'GMB_03', 'GMB_03', 'GMB_03', 'GMB_03', 'GMB_03', 'GMB_03', 'GMB_03', 'GMB_03', 'GMB_03', 'GMB_03', 'GMB_03', 'GMB_03', 'GMB_03', 'GMB_03', 'GMB_03', 'GMB_03', 'GMB_03', 'GMB_03', 'GMB_11', 'GMB_11', 'GMB_11', 'GMB_11', 'GMB_11', 'GMB_11', 'GMB_11', 'GMB_11', 'GMB_11', 'GMB_11', 'GMB_11', 'GMB_11', 'GMB_11', 'GMB_11', 'GMB_11', 'GMB_11', 'GMB_11', 'GMB_11', 'GMB_11', 'GMB_11', 'GMB_11', 'GMB_11', 'GMB_11', 'GMB_11', 'GMB_11', 'GMB_11', 'GMB_11', 'GMB_11', 'GMB_11', 'GMB_11', 'GMB_11', 'GMB_11', 'GMB_11', 'GMB_11', 'GMB_11', 'GMB_11', 'GMB_11', 'GMB_11', 'GMB_11', 'GMB_11', 'GMB_11', 'GMB_11', 'GMB_11', 'GMB_11', 'GMB_11', 'GMB_11', 'GMB_11', 'GMB_11', 'GMB_11', 'GMB_11', 'GMB_11', 'GMB_11', 'GMB_11', 'GMB_11', 'GMB_11', 'GMB_11', 'GMB_11', 'GMB_11', 'GMB_11', 'GMB_11', 'GMB_11', 'GMB_11', 'GMB_11', 'GMB_11', 'GMB_11', 'GMB_11', 'GMB_11', 'GMB_11', 'GMB_11', 'GMB_11', 'GMB_11', 'GMB_11', 'GMB_11', 'GMB_11', 'GMB_11', 'GMB_11', 'GMB_11', 'GMB_11', 'GMB_11', 'GMB_11', 'GMB_11', 'GMB_11', 'GMB_11', 'GMB_11', 'GMB_11', 'GMB_11', 'GMB_11', 'GMB_11', 'GMB_11', 'GMB_11', 'GMB_11', 'GMB_11', 'GMB_11', 'GMB_11', 'GMB_11', 'GMB_11', 'GMB_11', 'GMB_11', 'GMB_11', 'GMB_11', 'GMB_11', 'GMB_11', 'GMB_11', 'GMB_11', 'GMB_11', 'GMB_11', 'GMB_11', 'GMB_11', 'GMB_11', 'GMB_11', 'GMB_11', 'GMB_11', 'GMB_11', 'GMB_11', 'GMB_11', 'GMB_11', 'GMB_11', 'GMB_11', 'GMB_11', 'GMB_11', 'GMB_11', 'GMB_11', 'GMB_11', 'GMB_11', 'GMB_11', 'GMB_11', 'GMB_11', 'GMB_11', 'GMB_11']\n"
          ],
          "name": "stdout"
        }
      ]
    },
    {
      "cell_type": "code",
      "metadata": {
        "id": "wpeS4JszAj_s"
      },
      "source": [
        "# encode the labels, converting them from strings to integers\n",
        "lb = LabelBinarizer()\n",
        "labels = lb.fit_transform(labels)"
      ],
      "execution_count": 8,
      "outputs": []
    },
    {
      "cell_type": "code",
      "metadata": {
        "colab": {
          "base_uri": "https://localhost:8080/"
        },
        "id": "Ks9VU4VJAnSv",
        "outputId": "be619ec7-2ca3-4f47-afb3-b614d97e78a7"
      },
      "source": [
        "print(labels)"
      ],
      "execution_count": 9,
      "outputs": [
        {
          "output_type": "stream",
          "text": [
            "[[0 1 0 0 0]\n",
            " [0 1 0 0 0]\n",
            " [0 1 0 0 0]\n",
            " ...\n",
            " [0 0 0 0 1]\n",
            " [0 0 0 0 1]\n",
            " [0 0 0 0 1]]\n"
          ],
          "name": "stdout"
        }
      ]
    },
    {
      "cell_type": "code",
      "metadata": {
        "colab": {
          "base_uri": "https://localhost:8080/"
        },
        "id": "rEW20FZuApt5",
        "outputId": "4f0039d1-ea2e-4552-9821-918c4ce4250a"
      },
      "source": [
        "# perform a training and testing split, using 75% of the data for\n",
        "# training and 25% for evaluation\n",
        "(trainX, testX, trainY, testY) = train_test_split(np.array(data),\tnp.array(labels), test_size=0.25, shuffle=True)\n",
        "print(trainX.shape)\n",
        "print(testX.shape)"
      ],
      "execution_count": 10,
      "outputs": [
        {
          "output_type": "stream",
          "text": [
            "(443, 64, 64, 3)\n",
            "(148, 64, 64, 3)\n"
          ],
          "name": "stdout"
        }
      ]
    },
    {
      "cell_type": "code",
      "metadata": {
        "colab": {
          "base_uri": "https://localhost:8080/"
        },
        "id": "MzJ_R2xgAtxB",
        "outputId": "450f87c4-4450-430e-8f86-a5b250d5f2ae"
      },
      "source": [
        "from keras.layers import Convolution2D, MaxPool2D\n",
        "from keras.models import Sequential\n",
        "from keras.layers.core import Flatten, Dense\n",
        "\n",
        "model1 = Sequential()\n",
        "model1.add(Convolution2D(8, (3,3), activation='relu', input_shape=(64,64,3)))\n",
        "model1.add(MaxPool2D(2,2))\n",
        "model1.add(Convolution2D(64, (3,3), activation='relu'))\n",
        "model1.add(MaxPool2D(2,2))\n",
        "#fully connected layer\n",
        "model1.add(Flatten())\n",
        "model1.add(Dense(100, activation='relu'))\n",
        "model1.add(Dense(5, activation='softmax'))\n",
        "\n",
        "model1.summary()\n"
      ],
      "execution_count": 11,
      "outputs": [
        {
          "output_type": "stream",
          "text": [
            "Model: \"sequential\"\n",
            "_________________________________________________________________\n",
            "Layer (type)                 Output Shape              Param #   \n",
            "=================================================================\n",
            "conv2d (Conv2D)              (None, 62, 62, 8)         224       \n",
            "_________________________________________________________________\n",
            "max_pooling2d (MaxPooling2D) (None, 31, 31, 8)         0         \n",
            "_________________________________________________________________\n",
            "conv2d_1 (Conv2D)            (None, 29, 29, 64)        4672      \n",
            "_________________________________________________________________\n",
            "max_pooling2d_1 (MaxPooling2 (None, 14, 14, 64)        0         \n",
            "_________________________________________________________________\n",
            "flatten (Flatten)            (None, 12544)             0         \n",
            "_________________________________________________________________\n",
            "dense (Dense)                (None, 100)               1254500   \n",
            "_________________________________________________________________\n",
            "dense_1 (Dense)              (None, 5)                 505       \n",
            "=================================================================\n",
            "Total params: 1,259,901\n",
            "Trainable params: 1,259,901\n",
            "Non-trainable params: 0\n",
            "_________________________________________________________________\n"
          ],
          "name": "stdout"
        }
      ]
    },
    {
      "cell_type": "code",
      "metadata": {
        "id": "a61-QAd_AzDB"
      },
      "source": [
        "from keras.models import Sequential\n",
        "from keras.layers.core import Flatten\n",
        "from keras.layers.core import Dense\n",
        "\n",
        "model = Sequential(\n",
        "    [\n",
        "        Flatten(input_shape=(64*64*3,)),\n",
        "        Dense(100, activation=\"relu\", name=\"layer1\"),\n",
        "        Dense(16, activation=\"relu\", name=\"layer2\"),\n",
        "        Dense(16, activation=\"relu\", name=\"layer3\"),\n",
        "        Dense(3, activation = \"softmax\", name=\"layer4\"),\n",
        "    ]\n",
        ")"
      ],
      "execution_count": 12,
      "outputs": []
    },
    {
      "cell_type": "code",
      "metadata": {
        "colab": {
          "base_uri": "https://localhost:8080/"
        },
        "id": "j-5GWYYpA4Zc",
        "outputId": "b5754293-677b-466d-bc55-39af4fe0a684"
      },
      "source": [
        "\n",
        "model.summary()\n"
      ],
      "execution_count": 13,
      "outputs": [
        {
          "output_type": "stream",
          "text": [
            "Model: \"sequential_1\"\n",
            "_________________________________________________________________\n",
            "Layer (type)                 Output Shape              Param #   \n",
            "=================================================================\n",
            "flatten_1 (Flatten)          (None, 12288)             0         \n",
            "_________________________________________________________________\n",
            "layer1 (Dense)               (None, 100)               1228900   \n",
            "_________________________________________________________________\n",
            "layer2 (Dense)               (None, 16)                1616      \n",
            "_________________________________________________________________\n",
            "layer3 (Dense)               (None, 16)                272       \n",
            "_________________________________________________________________\n",
            "layer4 (Dense)               (None, 3)                 51        \n",
            "=================================================================\n",
            "Total params: 1,230,839\n",
            "Trainable params: 1,230,839\n",
            "Non-trainable params: 0\n",
            "_________________________________________________________________\n"
          ],
          "name": "stdout"
        }
      ]
    },
    {
      "cell_type": "code",
      "metadata": {
        "colab": {
          "base_uri": "https://localhost:8080/"
        },
        "id": "bwaPp-W0A9Nc",
        "outputId": "bfd953dd-77d2-4fb8-c874-e91a2fb812d3"
      },
      "source": [
        "# train the model using the Adam optimizer\n",
        "print(\"[INFO] training network...\")\n",
        "opt = Adam(lr=1e-3, decay=1e-3 / 50)\n",
        "model1.compile(loss=\"categorical_crossentropy\", optimizer=opt, metrics=[\"accuracy\"])"
      ],
      "execution_count": 14,
      "outputs": [
        {
          "output_type": "stream",
          "text": [
            "[INFO] training network...\n"
          ],
          "name": "stdout"
        }
      ]
    },
    {
      "cell_type": "code",
      "metadata": {
        "colab": {
          "base_uri": "https://localhost:8080/"
        },
        "id": "Rv5y5WXFBCCN",
        "outputId": "d23d918d-29e7-4a96-de14-62ac43f9efc2"
      },
      "source": [
        "H = model1.fit(trainX, trainY, validation_data=(testX, testY), epochs=25, batch_size=32)"
      ],
      "execution_count": 15,
      "outputs": [
        {
          "output_type": "stream",
          "text": [
            "Epoch 1/25\n",
            "14/14 [==============================] - 1s 102ms/step - loss: 1.8811 - accuracy: 0.1941 - val_loss: 1.5684 - val_accuracy: 0.2568\n",
            "Epoch 2/25\n",
            "14/14 [==============================] - 1s 89ms/step - loss: 1.4938 - accuracy: 0.3792 - val_loss: 1.4438 - val_accuracy: 0.3851\n",
            "Epoch 3/25\n",
            "14/14 [==============================] - 1s 94ms/step - loss: 1.2831 - accuracy: 0.4831 - val_loss: 1.1846 - val_accuracy: 0.5270\n",
            "Epoch 4/25\n",
            "14/14 [==============================] - 1s 91ms/step - loss: 1.0952 - accuracy: 0.5440 - val_loss: 1.0730 - val_accuracy: 0.5608\n",
            "Epoch 5/25\n",
            "14/14 [==============================] - 1s 90ms/step - loss: 0.9472 - accuracy: 0.6433 - val_loss: 1.0415 - val_accuracy: 0.6081\n",
            "Epoch 6/25\n",
            "14/14 [==============================] - 1s 90ms/step - loss: 0.8091 - accuracy: 0.7223 - val_loss: 0.8553 - val_accuracy: 0.6892\n",
            "Epoch 7/25\n",
            "14/14 [==============================] - 1s 92ms/step - loss: 0.6968 - accuracy: 0.7449 - val_loss: 0.8537 - val_accuracy: 0.6554\n",
            "Epoch 8/25\n",
            "14/14 [==============================] - 1s 92ms/step - loss: 0.6235 - accuracy: 0.7810 - val_loss: 0.7507 - val_accuracy: 0.7365\n",
            "Epoch 9/25\n",
            "14/14 [==============================] - 1s 92ms/step - loss: 0.5584 - accuracy: 0.7901 - val_loss: 0.7965 - val_accuracy: 0.6757\n",
            "Epoch 10/25\n",
            "14/14 [==============================] - 1s 91ms/step - loss: 0.4801 - accuracy: 0.8465 - val_loss: 0.6916 - val_accuracy: 0.7162\n",
            "Epoch 11/25\n",
            "14/14 [==============================] - 1s 92ms/step - loss: 0.4427 - accuracy: 0.8420 - val_loss: 0.7285 - val_accuracy: 0.7568\n",
            "Epoch 12/25\n",
            "14/14 [==============================] - 1s 92ms/step - loss: 0.4194 - accuracy: 0.8691 - val_loss: 0.7112 - val_accuracy: 0.7230\n",
            "Epoch 13/25\n",
            "14/14 [==============================] - 1s 91ms/step - loss: 0.3917 - accuracy: 0.8600 - val_loss: 0.6570 - val_accuracy: 0.7770\n",
            "Epoch 14/25\n",
            "14/14 [==============================] - 1s 93ms/step - loss: 0.3244 - accuracy: 0.8916 - val_loss: 0.6015 - val_accuracy: 0.7568\n",
            "Epoch 15/25\n",
            "14/14 [==============================] - 1s 92ms/step - loss: 0.2867 - accuracy: 0.8894 - val_loss: 0.6119 - val_accuracy: 0.7905\n",
            "Epoch 16/25\n",
            "14/14 [==============================] - 1s 90ms/step - loss: 0.2540 - accuracy: 0.9165 - val_loss: 0.6067 - val_accuracy: 0.7905\n",
            "Epoch 17/25\n",
            "14/14 [==============================] - 1s 92ms/step - loss: 0.2001 - accuracy: 0.9481 - val_loss: 0.6105 - val_accuracy: 0.8041\n",
            "Epoch 18/25\n",
            "14/14 [==============================] - 1s 91ms/step - loss: 0.1860 - accuracy: 0.9481 - val_loss: 0.6052 - val_accuracy: 0.8108\n",
            "Epoch 19/25\n",
            "14/14 [==============================] - 1s 92ms/step - loss: 0.1436 - accuracy: 0.9639 - val_loss: 0.5854 - val_accuracy: 0.8176\n",
            "Epoch 20/25\n",
            "14/14 [==============================] - 1s 91ms/step - loss: 0.1652 - accuracy: 0.9616 - val_loss: 0.6224 - val_accuracy: 0.7973\n",
            "Epoch 21/25\n",
            "14/14 [==============================] - 1s 91ms/step - loss: 0.1180 - accuracy: 0.9729 - val_loss: 0.5748 - val_accuracy: 0.8041\n",
            "Epoch 22/25\n",
            "14/14 [==============================] - 1s 92ms/step - loss: 0.0894 - accuracy: 0.9910 - val_loss: 0.6130 - val_accuracy: 0.8041\n",
            "Epoch 23/25\n",
            "14/14 [==============================] - 1s 91ms/step - loss: 0.1244 - accuracy: 0.9639 - val_loss: 0.6469 - val_accuracy: 0.7635\n",
            "Epoch 24/25\n",
            "14/14 [==============================] - 1s 91ms/step - loss: 0.1066 - accuracy: 0.9729 - val_loss: 0.6158 - val_accuracy: 0.8176\n",
            "Epoch 25/25\n",
            "14/14 [==============================] - 1s 91ms/step - loss: 0.0827 - accuracy: 0.9887 - val_loss: 0.6369 - val_accuracy: 0.8108\n"
          ],
          "name": "stdout"
        }
      ]
    },
    {
      "cell_type": "code",
      "metadata": {
        "colab": {
          "base_uri": "https://localhost:8080/",
          "height": 590
        },
        "id": "4btbAlvLBFBs",
        "outputId": "efee06ec-540b-419c-c417-983d00afe149"
      },
      "source": [
        "import matplotlib.pyplot as plt\n",
        "\n",
        "print(H.history.keys())\n",
        "# summarize history for accuracy\n",
        "plt.plot(H.history['accuracy'])\n",
        "plt.plot(H.history['val_accuracy'])\n",
        "plt.title('model accuracy')\n",
        "plt.ylabel('accuracy')\n",
        "plt.xlabel('epoch')\n",
        "plt.legend(['train', 'test'], loc='upper left')\n",
        "plt.show()\n",
        "# summarize history for loss\n",
        "plt.plot(H.history['loss'])\n",
        "plt.plot(H.history['val_loss'])\n",
        "plt.title('model loss')\n",
        "plt.ylabel('loss')\n",
        "plt.xlabel('epoch')\n",
        "plt.legend(['train', 'test'], loc='upper left')\n",
        "plt.show()"
      ],
      "execution_count": 16,
      "outputs": [
        {
          "output_type": "stream",
          "text": [
            "dict_keys(['loss', 'accuracy', 'val_loss', 'val_accuracy'])\n"
          ],
          "name": "stdout"
        },
        {
          "output_type": "display_data",
          "data": {
            "image/png": "[encoded data removed]",
            "text/plain": [
              "<Figure size 432x288 with 1 Axes>"
            ]
          },
          "metadata": {
            "tags": [],
            "needs_background": "light"
          }
        },
        {
          "output_type": "display_data",
          "data": {
            "image/png": "[encoded data removed]",
            "text/plain": [
              "<Figure size 432x288 with 1 Axes>"
            ]
          },
          "metadata": {
            "tags": [],
            "needs_background": "light"
          }
        }
      ]
    },
    {
      "cell_type": "code",
      "metadata": {
        "colab": {
          "base_uri": "https://localhost:8080/"
        },
        "id": "UZRyU0zGBIdb",
        "outputId": "166a1783-d20e-44b8-aad8-4e3a661a33e7"
      },
      "source": [
        "# evaluate the network\n",
        "print(\"[INFO] evaluating network...\")\n",
        "predictions = model1.predict(testX, batch_size=32)\n",
        "print(classification_report(testY.argmax(axis=1),\n",
        "\tpredictions.argmax(axis=1), target_names=lb.classes_))"
      ],
      "execution_count": 17,
      "outputs": [
        {
          "output_type": "stream",
          "text": [
            "[INFO] evaluating network...\n",
            "              precision    recall  f1-score   support\n",
            "\n",
            "      GMB_01       0.70      0.79      0.75        24\n",
            "      GMB_02       0.81      0.88      0.85        25\n",
            "      GMB_03       0.96      0.76      0.85        29\n",
            "      GMB_05       0.78      0.97      0.86        33\n",
            "      GMB_11       0.83      0.68      0.75        37\n",
            "\n",
            "    accuracy                           0.81       148\n",
            "   macro avg       0.82      0.82      0.81       148\n",
            "weighted avg       0.82      0.81      0.81       148\n",
            "\n"
          ],
          "name": "stdout"
        }
      ]
    },
    {
      "cell_type": "code",
      "metadata": {
        "colab": {
          "base_uri": "https://localhost:8080/"
        },
        "id": "EIqNC4bTBU_h",
        "outputId": "9bc71c2f-a479-4be8-ad55-6b096aac305e"
      },
      "source": [
        "model.save('nnmodel_scene')"
      ],
      "execution_count": 18,
      "outputs": [
        {
          "output_type": "stream",
          "text": [
            "WARNING:tensorflow:From /usr/local/lib/python3.6/dist-packages/tensorflow/python/training/tracking/tracking.py:111: Model.state_updates (from tensorflow.python.keras.engine.training) is deprecated and will be removed in a future version.\n",
            "Instructions for updating:\n",
            "This property should not be used in TensorFlow 2.0, as updates are applied automatically.\n",
            "WARNING:tensorflow:From /usr/local/lib/python3.6/dist-packages/tensorflow/python/training/tracking/tracking.py:111: Layer.updates (from tensorflow.python.keras.engine.base_layer) is deprecated and will be removed in a future version.\n",
            "Instructions for updating:\n",
            "This property should not be used in TensorFlow 2.0, as updates are applied automatically.\n",
            "INFO:tensorflow:Assets written to: nnmodel_scene/assets\n"
          ],
          "name": "stdout"
        }
      ]
    },
    {
      "cell_type": "code",
      "metadata": {
        "id": "SlE3zJmiBYq0"
      },
      "source": [
        "import cv2\n",
        "import matplotlib.pyplot as plt\n",
        "image1='daiena.jpg'"
      ],
      "execution_count": 19,
      "outputs": []
    },
    {
      "cell_type": "code",
      "metadata": {
        "colab": {
          "base_uri": "https://localhost:8080/",
          "height": 269
        },
        "id": "qyikDfALBiOO",
        "outputId": "48e7fabd-11d0-4a57-8c83-d75f57221887"
      },
      "source": [
        "img_array = cv2.imread(image1)\n",
        "plt.imshow(img_array)\n",
        "plt.show()\n",
        "# print(type(img_array))\n"
      ],
      "execution_count": 20,
      "outputs": [
        {
          "output_type": "display_data",
          "data": {
            "image/png": "[encoded data removed]",
            "text/plain": [
              "<Figure size 432x288 with 1 Axes>"
            ]
          },
          "metadata": {
            "tags": [],
            "needs_background": "light"
          }
        }
      ]
    },
    {
      "cell_type": "code",
      "metadata": {
        "colab": {
          "base_uri": "https://localhost:8080/"
        },
        "id": "n2YaAsIWBnA_",
        "outputId": "59c8b890-abdd-4d7a-c658-3bcc8cf33177"
      },
      "source": [
        "image_testing = Image.open('daiena.jpg')\n",
        "image_testing = np.array(image_testing.resize((64, 64))) / 255.0\n",
        "image_testing.shape"
      ],
      "execution_count": 21,
      "outputs": [
        {
          "output_type": "execute_result",
          "data": {
            "text/plain": [
              "(64, 64, 3)"
            ]
          },
          "metadata": {
            "tags": []
          },
          "execution_count": 21
        }
      ]
    },
    {
      "cell_type": "code",
      "metadata": {
        "colab": {
          "base_uri": "https://localhost:8080/"
        },
        "id": "PLHe0FgDBuZF",
        "outputId": "f86ecf53-ff25-4dfa-c152-839a817e0464"
      },
      "source": [
        "image_testing = np.expand_dims(image_testing, axis=0)\n",
        "print(image_testing.shape)"
      ],
      "execution_count": 22,
      "outputs": [
        {
          "output_type": "stream",
          "text": [
            "(1, 64, 64, 3)\n"
          ],
          "name": "stdout"
        }
      ]
    },
    {
      "cell_type": "code",
      "metadata": {
        "colab": {
          "base_uri": "https://localhost:8080/"
        },
        "id": "PqJL69T9BvPx",
        "outputId": "1334f335-1d63-49ea-fa90-a736ea0427ae"
      },
      "source": [
        "output = model.predict(image_testing, 1)\n",
        "print(output)\n",
        "print(lb.classes_[output.argmax(axis=1)])"
      ],
      "execution_count": 23,
      "outputs": [
        {
          "output_type": "stream",
          "text": [
            "WARNING:tensorflow:Model was constructed with shape (None, 12288) for input Tensor(\"flatten_1_input:0\", shape=(None, 12288), dtype=float32), but it was called on an input with incompatible shape (1, 64, 64, 3).\n",
            "[[0.5138826  0.22558424 0.26053318]]\n",
            "['GMB_01']\n"
          ],
          "name": "stdout"
        }
      ]
    }
  ]
}